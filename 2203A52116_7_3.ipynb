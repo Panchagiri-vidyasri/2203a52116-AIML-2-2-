{
  "nbformat": 4,
  "nbformat_minor": 0,
  "metadata": {
    "colab": {
      "provenance": []
    },
    "kernelspec": {
      "name": "python3",
      "display_name": "Python 3"
    },
    "language_info": {
      "name": "python"
    }
  },
  "cells": [
    {
      "cell_type": "code",
      "execution_count": 1,
      "metadata": {
        "colab": {
          "base_uri": "https://localhost:8080/"
        },
        "id": "UouT2D4MewWI",
        "outputId": "ed831bf8-2c63-4646-ed03-5b722ea07fff"
      },
      "outputs": [
        {
          "output_type": "stream",
          "name": "stdout",
          "text": [
            "Data Description:\n",
            "          longitude      latitude  housing_median_age   total_rooms  \\\n",
            "count  20640.000000  20640.000000        20640.000000  20640.000000   \n",
            "mean    -119.569704     35.631861           28.639486   2635.763081   \n",
            "std        2.003532      2.135952           12.585558   2181.615252   \n",
            "min     -124.350000     32.540000            1.000000      2.000000   \n",
            "25%     -121.800000     33.930000           18.000000   1447.750000   \n",
            "50%     -118.490000     34.260000           29.000000   2127.000000   \n",
            "75%     -118.010000     37.710000           37.000000   3148.000000   \n",
            "max     -114.310000     41.950000           52.000000  39320.000000   \n",
            "\n",
            "       total_bedrooms    population    households  median_income  \\\n",
            "count    20433.000000  20640.000000  20640.000000   20640.000000   \n",
            "mean       537.870553   1425.476744    499.539680       3.870671   \n",
            "std        421.385070   1132.462122    382.329753       1.899822   \n",
            "min          1.000000      3.000000      1.000000       0.499900   \n",
            "25%        296.000000    787.000000    280.000000       2.563400   \n",
            "50%        435.000000   1166.000000    409.000000       3.534800   \n",
            "75%        647.000000   1725.000000    605.000000       4.743250   \n",
            "max       6445.000000  35682.000000   6082.000000      15.000100   \n",
            "\n",
            "       median_house_value  \n",
            "count        20640.000000  \n",
            "mean        206855.816909  \n",
            "std         115395.615874  \n",
            "min          14999.000000  \n",
            "25%         119600.000000  \n",
            "50%         179700.000000  \n",
            "75%         264725.000000  \n",
            "max         500001.000000  \n",
            "\n",
            "Data Types:\n",
            "longitude             float64\n",
            "latitude              float64\n",
            "housing_median_age    float64\n",
            "total_rooms           float64\n",
            "total_bedrooms        float64\n",
            "population            float64\n",
            "households            float64\n",
            "median_income         float64\n",
            "median_house_value    float64\n",
            "ocean_proximity        object\n",
            "dtype: object\n",
            "\n",
            "Data Shape:\n",
            "(20640, 10)\n",
            "\n",
            "Null Values:\n",
            "longitude               0\n",
            "latitude                0\n",
            "housing_median_age      0\n",
            "total_rooms             0\n",
            "total_bedrooms        207\n",
            "population              0\n",
            "households              0\n",
            "median_income           0\n",
            "median_house_value      0\n",
            "ocean_proximity         0\n",
            "dtype: int64\n"
          ]
        },
        {
          "output_type": "stream",
          "name": "stderr",
          "text": [
            "<ipython-input-1-7afef4d5817e>:14: FutureWarning: The default value of numeric_only in DataFrame.mean is deprecated. In a future version, it will default to False. In addition, specifying 'numeric_only=None' is deprecated. Select only valid columns or specify the value of numeric_only to silence this warning.\n",
            "  data.fillna(data.mean(), inplace=True)\n"
          ]
        }
      ],
      "source": [
        "import pandas as pd\n",
        "from sklearn.model_selection import train_test_split\n",
        "from sklearn.preprocessing import MinMaxScaler\n",
        "data = pd.read_csv('/content/archive (2).zip')\n",
        "print(\"Data Description:\")\n",
        "print(data.describe())\n",
        "print(\"\\nData Types:\")\n",
        "print(data.dtypes)\n",
        "print(\"\\nData Shape:\")\n",
        "print(data.shape)\n",
        "null_values = data.isnull().sum()\n",
        "print(\"\\nNull Values:\")\n",
        "print(null_values)\n",
        "data.fillna(data.mean(), inplace=True)\n",
        "features = data.iloc[:, :-1]\n",
        "target = data.iloc[:, -1]\n",
        "X_train, X_test, y_train, y_test = train_test_split(features, target, test_size=0.2, random_state=42)\n",
        "scaler = MinMaxScaler()\n",
        "X_train_scaled = scaler.fit_transform(X_train)\n",
        "X_test_scaled = scaler.transform(X_test)\n"
      ]
    },
    {
      "cell_type": "code",
      "source": [
        "import pandas as pd\n",
        "from sklearn.model_selection import train_test_split\n",
        "from sklearn.preprocessing import MinMaxScaler\n",
        "data = pd.read_csv('/content/archive (2).zip')\n",
        "print(\"Data Description:\")\n",
        "print(data.describe())"
      ],
      "metadata": {
        "colab": {
          "base_uri": "https://localhost:8080/"
        },
        "id": "r7kTYzt-g_fm",
        "outputId": "c5b4beca-4c19-4486-fa6c-06526e822347"
      },
      "execution_count": 2,
      "outputs": [
        {
          "output_type": "stream",
          "name": "stdout",
          "text": [
            "Data Description:\n",
            "          longitude      latitude  housing_median_age   total_rooms  \\\n",
            "count  20640.000000  20640.000000        20640.000000  20640.000000   \n",
            "mean    -119.569704     35.631861           28.639486   2635.763081   \n",
            "std        2.003532      2.135952           12.585558   2181.615252   \n",
            "min     -124.350000     32.540000            1.000000      2.000000   \n",
            "25%     -121.800000     33.930000           18.000000   1447.750000   \n",
            "50%     -118.490000     34.260000           29.000000   2127.000000   \n",
            "75%     -118.010000     37.710000           37.000000   3148.000000   \n",
            "max     -114.310000     41.950000           52.000000  39320.000000   \n",
            "\n",
            "       total_bedrooms    population    households  median_income  \\\n",
            "count    20433.000000  20640.000000  20640.000000   20640.000000   \n",
            "mean       537.870553   1425.476744    499.539680       3.870671   \n",
            "std        421.385070   1132.462122    382.329753       1.899822   \n",
            "min          1.000000      3.000000      1.000000       0.499900   \n",
            "25%        296.000000    787.000000    280.000000       2.563400   \n",
            "50%        435.000000   1166.000000    409.000000       3.534800   \n",
            "75%        647.000000   1725.000000    605.000000       4.743250   \n",
            "max       6445.000000  35682.000000   6082.000000      15.000100   \n",
            "\n",
            "       median_house_value  \n",
            "count        20640.000000  \n",
            "mean        206855.816909  \n",
            "std         115395.615874  \n",
            "min          14999.000000  \n",
            "25%         119600.000000  \n",
            "50%         179700.000000  \n",
            "75%         264725.000000  \n",
            "max         500001.000000  \n"
          ]
        }
      ]
    },
    {
      "cell_type": "code",
      "source": [
        "print(\"\\nData Types:\")\n",
        "print(data.dtypes)\n",
        "print(\"\\nData Shape:\")\n",
        "print(data.shape)"
      ],
      "metadata": {
        "colab": {
          "base_uri": "https://localhost:8080/"
        },
        "id": "mrr64N1PhE9Q",
        "outputId": "56ec7db9-6a98-49b3-fb5f-3d1da22e366e"
      },
      "execution_count": 3,
      "outputs": [
        {
          "output_type": "stream",
          "name": "stdout",
          "text": [
            "\n",
            "Data Types:\n",
            "longitude             float64\n",
            "latitude              float64\n",
            "housing_median_age    float64\n",
            "total_rooms           float64\n",
            "total_bedrooms        float64\n",
            "population            float64\n",
            "households            float64\n",
            "median_income         float64\n",
            "median_house_value    float64\n",
            "ocean_proximity        object\n",
            "dtype: object\n",
            "\n",
            "Data Shape:\n",
            "(20640, 10)\n"
          ]
        }
      ]
    },
    {
      "cell_type": "code",
      "source": [
        "null_values = data.isnull().sum()\n",
        "print(\"\\nNull Values:\")\n",
        "print(null_values)"
      ],
      "metadata": {
        "colab": {
          "base_uri": "https://localhost:8080/"
        },
        "id": "Tnfqn-OChFib",
        "outputId": "a5e7e8eb-f087-4ab2-b172-ee24e5edb4a5"
      },
      "execution_count": 4,
      "outputs": [
        {
          "output_type": "stream",
          "name": "stdout",
          "text": [
            "\n",
            "Null Values:\n",
            "longitude               0\n",
            "latitude                0\n",
            "housing_median_age      0\n",
            "total_rooms             0\n",
            "total_bedrooms        207\n",
            "population              0\n",
            "households              0\n",
            "median_income           0\n",
            "median_house_value      0\n",
            "ocean_proximity         0\n",
            "dtype: int64\n"
          ]
        }
      ]
    },
    {
      "cell_type": "code",
      "source": [
        "features = data.iloc[:, :-1]\n",
        "target = data.iloc[:, -1]\n",
        "print(features)\n",
        "print(\".............................\")\n",
        "print(target)"
      ],
      "metadata": {
        "colab": {
          "base_uri": "https://localhost:8080/"
        },
        "id": "DTZ1VuQ3hJuG",
        "outputId": "a302dffd-7af8-484f-9b28-9df371fcd964"
      },
      "execution_count": 12,
      "outputs": [
        {
          "output_type": "stream",
          "name": "stdout",
          "text": [
            "       longitude  latitude  housing_median_age  total_rooms  total_bedrooms  \\\n",
            "0        -122.23     37.88                41.0        880.0           129.0   \n",
            "1        -122.22     37.86                21.0       7099.0          1106.0   \n",
            "2        -122.24     37.85                52.0       1467.0           190.0   \n",
            "3        -122.25     37.85                52.0       1274.0           235.0   \n",
            "4        -122.25     37.85                52.0       1627.0           280.0   \n",
            "...          ...       ...                 ...          ...             ...   \n",
            "20635    -121.09     39.48                25.0       1665.0           374.0   \n",
            "20636    -121.21     39.49                18.0        697.0           150.0   \n",
            "20637    -121.22     39.43                17.0       2254.0           485.0   \n",
            "20638    -121.32     39.43                18.0       1860.0           409.0   \n",
            "20639    -121.24     39.37                16.0       2785.0           616.0   \n",
            "\n",
            "       population  households  median_income  median_house_value  \n",
            "0           322.0       126.0         8.3252            452600.0  \n",
            "1          2401.0      1138.0         8.3014            358500.0  \n",
            "2           496.0       177.0         7.2574            352100.0  \n",
            "3           558.0       219.0         5.6431            341300.0  \n",
            "4           565.0       259.0         3.8462            342200.0  \n",
            "...           ...         ...            ...                 ...  \n",
            "20635       845.0       330.0         1.5603             78100.0  \n",
            "20636       356.0       114.0         2.5568             77100.0  \n",
            "20637      1007.0       433.0         1.7000             92300.0  \n",
            "20638       741.0       349.0         1.8672             84700.0  \n",
            "20639      1387.0       530.0         2.3886             89400.0  \n",
            "\n",
            "[20640 rows x 9 columns]\n",
            ".............................\n",
            "0        NEAR BAY\n",
            "1        NEAR BAY\n",
            "2        NEAR BAY\n",
            "3        NEAR BAY\n",
            "4        NEAR BAY\n",
            "           ...   \n",
            "20635      INLAND\n",
            "20636      INLAND\n",
            "20637      INLAND\n",
            "20638      INLAND\n",
            "20639      INLAND\n",
            "Name: ocean_proximity, Length: 20640, dtype: object\n"
          ]
        }
      ]
    },
    {
      "cell_type": "code",
      "source": [
        "X_train, X_test, y_train, y_test = train_test_split(features, target, test_size=0.2, random_state=42)\n",
        "\n",
        "# f) Normalize the data with min-max scaling\n",
        "scaler = MinMaxScaler()\n",
        "X_train_scaled = scaler.fit_transform(X_train)\n",
        "X_test_scaled = scaler.transform(X_test)\n",
        "print(X_train)\n",
        "print(\".............................\")\n",
        "print(X_test)"
      ],
      "metadata": {
        "colab": {
          "base_uri": "https://localhost:8080/"
        },
        "id": "CQubGALyhPlN",
        "outputId": "7f8bdf61-9bb5-49c5-948a-49e496b96d45"
      },
      "execution_count": 11,
      "outputs": [
        {
          "output_type": "stream",
          "name": "stdout",
          "text": [
            "       longitude  latitude  housing_median_age  total_rooms  total_bedrooms  \\\n",
            "14196    -117.03     32.71                33.0       3126.0           627.0   \n",
            "8267     -118.16     33.77                49.0       3382.0           787.0   \n",
            "17445    -120.48     34.66                 4.0       1897.0           331.0   \n",
            "14265    -117.11     32.69                36.0       1421.0           367.0   \n",
            "2271     -119.80     36.78                43.0       2382.0           431.0   \n",
            "...          ...       ...                 ...          ...             ...   \n",
            "11284    -117.96     33.78                35.0       1330.0           201.0   \n",
            "11964    -117.43     34.02                33.0       3084.0           570.0   \n",
            "5390     -118.38     34.03                36.0       2101.0           569.0   \n",
            "860      -121.96     37.58                15.0       3575.0           597.0   \n",
            "15795    -122.42     37.77                52.0       4226.0          1315.0   \n",
            "\n",
            "       population  households  median_income  median_house_value  \n",
            "14196      2300.0       623.0         3.2596            103000.0  \n",
            "8267       1314.0       756.0         3.8125            382100.0  \n",
            "17445       915.0       336.0         4.1563            172600.0  \n",
            "14265      1418.0       355.0         1.9425             93400.0  \n",
            "2271        874.0       380.0         3.5542             96500.0  \n",
            "...           ...         ...            ...                 ...  \n",
            "11284       658.0       217.0         6.3700            229200.0  \n",
            "11964      1753.0       449.0         3.0500             97800.0  \n",
            "5390       1756.0       527.0         2.9344            222100.0  \n",
            "860        1777.0       559.0         5.7192            283500.0  \n",
            "15795      2619.0      1242.0         2.5755            325000.0  \n",
            "\n",
            "[16512 rows x 9 columns]\n",
            ".............................\n",
            "       longitude  latitude  housing_median_age  total_rooms  total_bedrooms  \\\n",
            "20046    -119.01     36.06                25.0       1505.0             NaN   \n",
            "3024     -119.46     35.14                30.0       2943.0             NaN   \n",
            "15663    -122.44     37.80                52.0       3830.0             NaN   \n",
            "20484    -118.72     34.28                17.0       3051.0             NaN   \n",
            "9814     -121.93     36.62                34.0       2351.0             NaN   \n",
            "...          ...       ...                 ...          ...             ...   \n",
            "15362    -117.22     33.36                16.0       3165.0           482.0   \n",
            "16623    -120.83     35.36                28.0       4323.0           886.0   \n",
            "18086    -122.05     37.31                25.0       4111.0           538.0   \n",
            "2144     -119.76     36.77                36.0       2507.0           466.0   \n",
            "3665     -118.37     34.22                17.0       1787.0           463.0   \n",
            "\n",
            "       population  households  median_income  median_house_value  \n",
            "20046      1392.0       359.0         1.6812             47700.0  \n",
            "3024       1565.0       584.0         2.5313             45800.0  \n",
            "15663      1310.0       963.0         3.4801            500001.0  \n",
            "20484      1705.0       495.0         5.7376            218600.0  \n",
            "9814       1063.0       428.0         3.7250            278000.0  \n",
            "...           ...         ...            ...                 ...  \n",
            "15362      1351.0       452.0         4.6050            263300.0  \n",
            "16623      1650.0       705.0         2.7266            266800.0  \n",
            "18086      1585.0       568.0         9.2298            500001.0  \n",
            "2144       1227.0       474.0         2.7850             72300.0  \n",
            "3665       1671.0       448.0         3.5521            151500.0  \n",
            "\n",
            "[4128 rows x 9 columns]\n"
          ]
        }
      ]
    },
    {
      "cell_type": "code",
      "source": [],
      "metadata": {
        "id": "FraHcEQFhSip"
      },
      "execution_count": null,
      "outputs": []
    }
  ]
}